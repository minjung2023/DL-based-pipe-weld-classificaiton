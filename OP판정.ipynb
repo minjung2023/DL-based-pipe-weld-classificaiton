{
 "cells": [
  {
   "cell_type": "markdown",
   "metadata": {},
   "source": [
    "#### 필요한 라이브러리 불러오기 "
   ]
  },
  {
   "cell_type": "code",
   "execution_count": null,
   "metadata": {},
   "outputs": [],
   "source": [
    "import os"
   ]
  },
  {
   "cell_type": "markdown",
   "metadata": {},
   "source": [
    "#### OP 판정 결과 데이터베이스에 넘기기 위한 함수"
   ]
  },
  {
   "cell_type": "code",
   "execution_count": null,
   "metadata": {},
   "outputs": [],
   "source": [
    "def OP_result(DATE,PIPE_NUM):\n",
    "    file_list = []\n",
    "    for p in PIPE_NUM:\n",
    "        # 해당 날짜의 각 product명의 확장자가 tif 인 것들만 가져오기 \n",
    "        image_list = [i for i in os.listdir(\"/root/work/hyundairb/DRT_CUT/\" + DATE + \"/\" + p) if i[-3:]==\"tif\"]\n",
    "        print(image_list)\n",
    "        file_list.append(image_list)\n",
    "    \n",
    "    # 이중 리스트 풀기\n",
    "    file_list = [y for x in file_list for y in x]\n",
    "    \n",
    "    # 만약 파일명에 아래와 같이 결함 코드가 있으면 \n",
    "    for i in file_list:\n",
    "        if((i[-6:-4]=='SD')|(i[-6:-4]==\"CT\")|(i[-6:-4]=='LF')|\n",
    "           (i[-6:-4]=='PO')|(i[-6:-4]=='SI')|(i[-6:-4]=='CR')|\n",
    "           (i[-6:-4]=='UC')|(i[-6:-4]=='BT')|(i[-6:-4]=='TI')|\n",
    "           (i[-6:-4]=='PM')|(i[-6:-4]=='RC')|(i[-6:-4]=='SP')|\n",
    "           (i[-6:-4]=='OL')|(i[-6:-4]=='UF')|(i[-6:-4]=='IP')):\n",
    "            \n",
    "            # 파일명과 결함여부 (class), 결함의 범주 (defect_class) 출력 \n",
    "            print(\"file_name:\", '-'.join(i.split(\".\")[0].split('-')[:7]), \"class:\",\"Y\", \n",
    "                  \"defect_class:\",i.split('.')[0].split('-')[-1])\n",
    "        # 만약 파일명에 결함코드가 없으면 \n",
    "        else:\n",
    "            # 파일명과 결함여부 (class), 결함의 범주는 null로 작성해서 출력\n",
    "            print(\"file_name:\", '-'.join(i.split(\".\")[0].split('-')[:8]), \"class:\", \"N\",\n",
    "                 \"defect_class:\", \"null\")"
   ]
  }
 ],
 "metadata": {
  "kernelspec": {
   "display_name": "Python 3",
   "language": "python",
   "name": "python3"
  },
  "language_info": {
   "codemirror_mode": {
    "name": "ipython",
    "version": 3
   },
   "file_extension": ".py",
   "mimetype": "text/x-python",
   "name": "python",
   "nbconvert_exporter": "python",
   "pygments_lexer": "ipython3",
   "version": "3.7.6"
  }
 },
 "nbformat": 4,
 "nbformat_minor": 4
}
